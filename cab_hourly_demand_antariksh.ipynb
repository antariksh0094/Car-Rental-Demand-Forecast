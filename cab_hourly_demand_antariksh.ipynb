{
 "cells": [
  {
   "cell_type": "code",
   "execution_count": 201,
   "metadata": {},
   "outputs": [],
   "source": [
    "import numpy as np, pandas as pd\n",
    "from datetime import datetime\n",
    "import matplotlib.pyplot as plt\n",
    "\n",
    "from sklearn.ensemble import RandomForestRegressor\n",
    "from sklearn.metrics import mean_squared_error\n",
    "\n",
    "from IPython.core.interactiveshell import InteractiveShell\n",
    "InteractiveShell.ast_node_interactivity = \"all\""
   ]
  },
  {
   "cell_type": "markdown",
   "metadata": {},
   "source": [
    "### Reading data and checking for NULLs"
   ]
  },
  {
   "cell_type": "code",
   "execution_count": 156,
   "metadata": {},
   "outputs": [],
   "source": [
    "df = pd.read_csv('train_E1GspfA.csv')\n",
    "df['date'] = pd.to_datetime(df['date'])\n",
    "date_col = 'date'"
   ]
  },
  {
   "cell_type": "code",
   "execution_count": 157,
   "metadata": {},
   "outputs": [
    {
     "data": {
      "text/plain": [
       "(18247, 3)"
      ]
     },
     "execution_count": 157,
     "metadata": {},
     "output_type": "execute_result"
    }
   ],
   "source": [
    "df.shape"
   ]
  },
  {
   "cell_type": "code",
   "execution_count": 158,
   "metadata": {},
   "outputs": [
    {
     "data": {
      "text/plain": [
       "date      0\n",
       "hour      0\n",
       "demand    0\n",
       "dtype: int64"
      ]
     },
     "execution_count": 158,
     "metadata": {},
     "output_type": "execute_result"
    }
   ],
   "source": [
    "df.isna().sum()\n",
    "\n",
    "# NO NULL VALUES IN TRAIN DATA"
   ]
  },
  {
   "cell_type": "code",
   "execution_count": 159,
   "metadata": {},
   "outputs": [],
   "source": [
    "df = df.sort_values(['date', 'hour'])"
   ]
  },
  {
   "cell_type": "markdown",
   "metadata": {},
   "source": [
    "### Preprocessing - Adding date and hour related columns "
   ]
  },
  {
   "cell_type": "code",
   "execution_count": 160,
   "metadata": {},
   "outputs": [],
   "source": [
    "def date_process(df, date_col = 'date'):\n",
    "    \n",
    "    # FUNCTION TO ADD DATE AND HOUR SPECIFIC COLUMNS\n",
    "    # TO SHOW THE EFFECTS OF SPECIAL DAYS LIKE YEAR END, FESTIVALS, ETC\n",
    "    \n",
    "    \n",
    "    # DATE - ADDING COLUMNS FOR SPECIFIC CALENDAR EVENTS LIKE QUARTER-START, YEAR-END, ETC.\n",
    "    \n",
    "    df['day_of_month'] = df[date_col].apply(lambda x: x.day)\n",
    "    \n",
    "    df['day_of_year'] = df[date_col].apply(lambda x: x.dayofyear)\n",
    "    \n",
    "    df['is_month_start'] = df[date_col].apply(lambda x: x.is_month_start)\n",
    "    \n",
    "    df['is_month_end'] = df[date_col].apply(lambda x: x.is_month_end)\n",
    "    \n",
    "    df['is_quarter_start'] = df[date_col].apply(lambda x: x.is_quarter_start)\n",
    "    \n",
    "    df['is_quarter_end'] = df[date_col].apply(lambda x: x.is_quarter_end)\n",
    "    \n",
    "    df['month'] = df[date_col].dt.month\n",
    "    \n",
    "    df['week'] = df[date_col].apply(lambda x: x.week)\n",
    "    \n",
    "    df['week_of_year'] = df[date_col].apply(lambda x: x.weekofyear)\n",
    "    \n",
    "    df['is_year_start'] = df[date_col].apply(lambda x: x.is_year_start)\n",
    "    \n",
    "    df['is_year_end'] = df[date_col].apply(lambda x: x.is_year_end)\n",
    "    \n",
    "    df['quarter'] = df[date_col].apply(lambda x: x.quarter)\n",
    "    \n",
    "    df['day_of_week'] = df[date_col].apply(lambda x: x.dayofweek)\n",
    "    \n",
    "    df['is_weekend'] = df['day_of_week'].apply(lambda x: 1 if x in [5,6] else 0)\n",
    "    \n",
    "    df['year'] = df['date'].dt.year\n",
    "\n",
    "    \n",
    "    # ADDING COVID PERIOD RELATED COLUMNS LIKE LOCKDOWN, 1ST WAVE, ETC. TO CAPTURE POSSIBLE CHANGE IN CAB DEMAND DUE TO COVID.\n",
    "    \n",
    "    df['is_covid_year'] = df['date'].dt.year.apply(lambda x: 1 if x in [2020, 2021] else 0)\n",
    "\n",
    "    df['is_covid_first_wave'] = df['date'].apply(lambda x: 1 if x in pd.date_range('2020-03-20','2020-06-01') else 0)\n",
    "\n",
    "    df['is_covid_second_wave'] = df['date'].apply(lambda x: 1 if x in pd.date_range('2021-02-27','2021-05-25') else 0)\n",
    "\n",
    "    df['is_covid_third_wave'] = df['date'].apply(lambda x: 1 if x in pd.date_range('2022-01-01','2022-02-15') else 0)\n",
    "\n",
    "    df['is_first_lockdown'] = df['date'].apply(lambda x: 1 if x in pd.date_range('2020-03-20','2020-06-30') else 0)\n",
    "\n",
    "    df['is_second_lockdown'] = df['date'].apply(lambda x: 1 if x in pd.date_range('2021-03-20','2021-05-01') else 0)\n",
    "\n",
    "    \n",
    "    # ADDING COLUMNS FOR SOME INDIAN AND INTERNATIONAL FESTIVALS\n",
    "    \n",
    "    df['is_christmas'] = df['date'].apply(lambda x: 1 if ((x.month == 12) & (x.day == 25)) else 0) # christmas\n",
    "\n",
    "    df['is_vday'] = df['date'].apply(lambda x: 1 if ((x.month == 2) & (x.day == 14)) else 0) # valentine's\n",
    "\n",
    "    df['is_4july'] = df['date'].apply(lambda x: 1 if ((x.month == 7) & (x.day == 4)) else 0) # us independence\n",
    "\n",
    "    df['is_15august'] = df['date'].apply(lambda x: 1 if ((x.month == 8) & (x.day == 15)) else 0) # indian independence\n",
    "\n",
    "    df['is_26jan'] = df['date'].apply(lambda x: 1 if ((x.month == 1) & (x.day == 26)) else 0) # indian republic day\n",
    "\n",
    "    df['is_dussehra_month'] = df['date'].apply(lambda x: 1 if (x.month == 10) else 0) \n",
    "\n",
    "    df['is_dussehra_period1'] = df['date'].apply(lambda x: 1 if ((x.month == 10) & (x.day <= 15)) else 0)\n",
    "\n",
    "    df['is_dussehra_period2'] = df['date'].apply(lambda x: 1 if ((x.month == 10) & (x.day > 15)) else 0)\n",
    "\n",
    "    df['is_diwali_month'] = df['date'].apply(lambda x: 1 if (x.month == 11) else 0) \n",
    "\n",
    "    df['is_diwali_period1'] = df['date'].apply(lambda x: 1 if ((x.month == 11) & (x.day <= 15)) else 0)\n",
    "\n",
    "    df['is_diwali_period2'] = df['date'].apply(lambda x: 1 if ((x.month == 11) & (x.day > 15)) else 0)\n",
    "\n",
    "    df['is_holi_month'] = df['date'].apply(lambda x: 1 if (x.month == 3) else 0) \n",
    "\n",
    "    \n",
    "    # HOUR - ADDING COLUMNS TO REFLECT SPECIAL HOURS DURING THE DAY LIKE OFFICE COMMUTE TIME, NIGHT TIME, ETC.\n",
    "\n",
    "    df['hour_morning_commute1'] = df['hour'].apply(lambda x: 1 if x in [9,10,11] else 0)\n",
    "\n",
    "    df['hour_morning_commute2'] = df['hour'].apply(lambda x: 1 if x in [10,11,12] else 0)\n",
    "\n",
    "    df['hour_morning_commute3'] = df['hour'].apply(lambda x: 1 if x in [10] else 0)\n",
    "\n",
    "    df['hour_morning_commute4'] = df['hour'].apply(lambda x: 1 if x in [9, 10] else 0)\n",
    "\n",
    "    df['hour_morning_commute5'] = df['hour'].apply(lambda x: 1 if x in [10, 11] else 0)\n",
    "\n",
    "    df['hour_evening_commute'] = df['hour'].apply(lambda x: 1 if x in [6,7,8] else 0)\n",
    "\n",
    "    df['hour_lunch'] = df['hour'].apply(lambda x: 1 if x in [12,13,14] else 0)\n",
    "\n",
    "    df['hour_night'] = df['hour'].apply(lambda x: 1 if x in [23,0,1,2,3,4,5] else 0)\n",
    "\n",
    "    df['hour_dinner'] = df['hour'].apply(lambda x: 1 if x in [20,21,22] else 0)\n",
    "\n",
    "    df['hour_club_start'] = df['hour'].apply(lambda x: 1 if x in [21,22,23] else 0)\n",
    "\n",
    "    df['hour_club_end'] = df['hour'].apply(lambda x: 1 if x in [23,0,1, 2] else 0)\n",
    "\n",
    "    df['hour_early_morning'] = df['hour'].apply(lambda x: 1 if x in [5,6,7,8] else 0)\n",
    "\n",
    "    df['hour_late_morning'] = df['hour'].apply(lambda x: 1 if x in [9,10] else 0)\n",
    "\n",
    "    df['hour_forenoon'] = df['hour'].apply(lambda x: 1 if x in [10,11] else 0)\n",
    "\n",
    "    df['hour_noon'] = df['hour'].apply(lambda x: 1 if x in [12,13] else 0)\n",
    "\n",
    "    df['hour_afternoon'] = df['hour'].apply(lambda x: 1 if x in [14,15,16] else 0)\n",
    "\n",
    "    df['hour_early_evening'] = df['hour'].apply(lambda x: 1 if x in [17,18] else 0)\n",
    "\n",
    "    df['hour_late_evening1'] = df['hour'].apply(lambda x: 1 if x in [18,19] else 0)\n",
    "\n",
    "    df['hour_late_evening2'] = df['hour'].apply(lambda x: 1 if x in [19,20, 21] else 0)\n",
    "\n",
    "    df['hour_pre_midnight'] = df['hour'].apply(lambda x: 1 if x in [22,23] else 0)\n",
    "\n",
    "    df['hour_post_midnight'] = df['hour'].apply(lambda x: 1 if x in [0,1,2] else 0)\n",
    "\n",
    "    df['hour_pre_dawn1'] = df['hour'].apply(lambda x: 1 if x in [3,4,5] else 0)\n",
    "\n",
    "    df['hour_pre_dawn2'] = df['hour'].apply(lambda x: 1 if x in [4,5] else 0)\n",
    "    \n",
    "    print('Final df shape', df.shape)\n",
    "    \n",
    "    return df.copy()"
   ]
  },
  {
   "cell_type": "code",
   "execution_count": 161,
   "metadata": {},
   "outputs": [
    {
     "name": "stdout",
     "output_type": "stream",
     "text": [
      "Final df shape (18247, 59)\n"
     ]
    }
   ],
   "source": [
    "df = date_process(df)"
   ]
  },
  {
   "cell_type": "code",
   "execution_count": 162,
   "metadata": {},
   "outputs": [
    {
     "data": {
      "text/html": [
       "<div>\n",
       "<style scoped>\n",
       "    .dataframe tbody tr th:only-of-type {\n",
       "        vertical-align: middle;\n",
       "    }\n",
       "\n",
       "    .dataframe tbody tr th {\n",
       "        vertical-align: top;\n",
       "    }\n",
       "\n",
       "    .dataframe thead th {\n",
       "        text-align: right;\n",
       "    }\n",
       "</style>\n",
       "<table border=\"1\" class=\"dataframe\">\n",
       "  <thead>\n",
       "    <tr style=\"text-align: right;\">\n",
       "      <th></th>\n",
       "      <th>date</th>\n",
       "      <th>hour</th>\n",
       "      <th>demand</th>\n",
       "      <th>day_of_month</th>\n",
       "      <th>day_of_year</th>\n",
       "      <th>is_month_start</th>\n",
       "      <th>is_month_end</th>\n",
       "      <th>is_quarter_start</th>\n",
       "      <th>is_quarter_end</th>\n",
       "      <th>month</th>\n",
       "      <th>...</th>\n",
       "      <th>hour_forenoon</th>\n",
       "      <th>hour_noon</th>\n",
       "      <th>hour_afternoon</th>\n",
       "      <th>hour_early_evening</th>\n",
       "      <th>hour_late_evening1</th>\n",
       "      <th>hour_late_evening2</th>\n",
       "      <th>hour_pre_midnight</th>\n",
       "      <th>hour_post_midnight</th>\n",
       "      <th>hour_pre_dawn1</th>\n",
       "      <th>hour_pre_dawn2</th>\n",
       "    </tr>\n",
       "  </thead>\n",
       "  <tbody>\n",
       "    <tr>\n",
       "      <th>0</th>\n",
       "      <td>2018-08-18</td>\n",
       "      <td>9</td>\n",
       "      <td>91</td>\n",
       "      <td>18</td>\n",
       "      <td>230</td>\n",
       "      <td>False</td>\n",
       "      <td>False</td>\n",
       "      <td>False</td>\n",
       "      <td>False</td>\n",
       "      <td>8</td>\n",
       "      <td>...</td>\n",
       "      <td>0</td>\n",
       "      <td>0</td>\n",
       "      <td>0</td>\n",
       "      <td>0</td>\n",
       "      <td>0</td>\n",
       "      <td>0</td>\n",
       "      <td>0</td>\n",
       "      <td>0</td>\n",
       "      <td>0</td>\n",
       "      <td>0</td>\n",
       "    </tr>\n",
       "    <tr>\n",
       "      <th>1</th>\n",
       "      <td>2018-08-18</td>\n",
       "      <td>10</td>\n",
       "      <td>21</td>\n",
       "      <td>18</td>\n",
       "      <td>230</td>\n",
       "      <td>False</td>\n",
       "      <td>False</td>\n",
       "      <td>False</td>\n",
       "      <td>False</td>\n",
       "      <td>8</td>\n",
       "      <td>...</td>\n",
       "      <td>1</td>\n",
       "      <td>0</td>\n",
       "      <td>0</td>\n",
       "      <td>0</td>\n",
       "      <td>0</td>\n",
       "      <td>0</td>\n",
       "      <td>0</td>\n",
       "      <td>0</td>\n",
       "      <td>0</td>\n",
       "      <td>0</td>\n",
       "    </tr>\n",
       "  </tbody>\n",
       "</table>\n",
       "<p>2 rows × 59 columns</p>\n",
       "</div>"
      ],
      "text/plain": [
       "        date  hour  demand  day_of_month  day_of_year  is_month_start  \\\n",
       "0 2018-08-18     9      91            18          230           False   \n",
       "1 2018-08-18    10      21            18          230           False   \n",
       "\n",
       "   is_month_end  is_quarter_start  is_quarter_end  month  ...  hour_forenoon  \\\n",
       "0         False             False           False      8  ...              0   \n",
       "1         False             False           False      8  ...              1   \n",
       "\n",
       "   hour_noon  hour_afternoon  hour_early_evening  hour_late_evening1  \\\n",
       "0          0               0                   0                   0   \n",
       "1          0               0                   0                   0   \n",
       "\n",
       "   hour_late_evening2  hour_pre_midnight  hour_post_midnight  hour_pre_dawn1  \\\n",
       "0                   0                  0                   0               0   \n",
       "1                   0                  0                   0               0   \n",
       "\n",
       "   hour_pre_dawn2  \n",
       "0               0  \n",
       "1               0  \n",
       "\n",
       "[2 rows x 59 columns]"
      ]
     },
     "execution_count": 162,
     "metadata": {},
     "output_type": "execute_result"
    }
   ],
   "source": [
    "# LET US SEE HOW THE DATAFRAME LOOKS NOW\n",
    "\n",
    "df.head(2)"
   ]
  },
  {
   "cell_type": "code",
   "execution_count": 83,
   "metadata": {},
   "outputs": [
    {
     "data": {
      "text/plain": [
       "0"
      ]
     },
     "execution_count": 83,
     "metadata": {},
     "output_type": "execute_result"
    }
   ],
   "source": [
    "# CHECK TO SEE NULL VALUES\n",
    "df.isna().sum().sum()"
   ]
  },
  {
   "cell_type": "markdown",
   "metadata": {},
   "source": [
    "### CREATING TRAIN AND VALIDATION SETS"
   ]
  },
  {
   "cell_type": "code",
   "execution_count": 86,
   "metadata": {},
   "outputs": [
    {
     "data": {
      "text/plain": [
       "(18247, 59)"
      ]
     },
     "execution_count": 86,
     "metadata": {},
     "output_type": "execute_result"
    }
   ],
   "source": [
    "df.shape"
   ]
  },
  {
   "cell_type": "code",
   "execution_count": 1,
   "metadata": {},
   "outputs": [],
   "source": [
    "# SINCE THIS IS A TIME BASED PREDICTION DATASET, WE CANNOT TAKE RANDOM SAMPLES FOR VALIDATION. \n",
    "# THE VALIDATION 'DATE' AND 'HOUR' SHOULD NOT COINCIDE WITH TRAIN 'DATE' AND 'HOUR'. THIS WILL LEAD TO DATA LEAKAGE.\n",
    "# WE WILL TAKE NON-OVERLAPPING TRAIN AND VALIDATION PERIODS."
   ]
  },
  {
   "cell_type": "code",
   "execution_count": 170,
   "metadata": {},
   "outputs": [
    {
     "data": {
      "text/plain": [
       "12773"
      ]
     },
     "execution_count": 170,
     "metadata": {},
     "output_type": "execute_result"
    }
   ],
   "source": [
    "# DECIDE THE TRAIN-VALIDATION RATIO FOR MODEL TRAINING\n",
    "\n",
    "train_ratio = 0.7\n",
    "train_size = round(df.shape[0]*train_ratio)\n",
    "train_size"
   ]
  },
  {
   "cell_type": "code",
   "execution_count": 96,
   "metadata": {},
   "outputs": [
    {
     "name": "stdout",
     "output_type": "stream",
     "text": [
      "train_df shape (18247, 57)\n"
     ]
    },
    {
     "data": {
      "text/plain": [
       "((12773, 56), (12773,), (5474, 56), (5474,))"
      ]
     },
     "execution_count": 96,
     "metadata": {},
     "output_type": "execute_result"
    }
   ],
   "source": [
    "# DROP THE 'DATE' AND 'HOUR' COLUMNS, THEY ARE NO LONGER NEEDED\n",
    "\n",
    "train_df = df.drop(['date', 'hour'], axis=1)\n",
    "print('train_df shape', train_df.shape)\n",
    "\n",
    "# CREATE TRAIN AND VALIDATION SETS\n",
    "# THEY SHOULD BE NON-OVERLAPPING, TO PREVENT DATA LEAKAGE\n",
    "\n",
    "# INPUTS\n",
    "xt = train_df.drop('demand', axis=1)[:train_size]\n",
    "xv = train_df.drop('demand', axis=1)[train_size:]\n",
    "\n",
    "# TARGET (DEMAND)\n",
    "yt = train_df['demand'][:train_size]\n",
    "yv = train_df['demand'][train_size:]\n",
    "\n",
    "# SHAPE OF TRAIN AND VALIDATION SETS\n",
    "xt.shape, yt.shape, xv.shape, yv.shape"
   ]
  },
  {
   "cell_type": "markdown",
   "metadata": {},
   "source": [
    "### TRAINING RANDOM FOREST"
   ]
  },
  {
   "cell_type": "code",
   "execution_count": 171,
   "metadata": {},
   "outputs": [
    {
     "data": {
      "text/plain": [
       "38.090960033077224"
      ]
     },
     "execution_count": 171,
     "metadata": {},
     "output_type": "execute_result"
    }
   ],
   "source": [
    "# FIT RANDOM FOREST WITH NO REGULARISATION AND SEE FEATURE IMPORTANCE\n",
    "m = RandomForestRegressor()\n",
    "m.fit(xt, yt)\n",
    "\n",
    "val_preds = m.predict(xv)\n",
    "\n",
    "np.sqrt(mean_squared_error(yv, val_preds))"
   ]
  },
  {
   "cell_type": "markdown",
   "metadata": {},
   "source": [
    "#### FEATURE IMPORTANCE"
   ]
  },
  {
   "cell_type": "code",
   "execution_count": 209,
   "metadata": {},
   "outputs": [
    {
     "data": {
      "text/html": [
       "<div>\n",
       "<style scoped>\n",
       "    .dataframe tbody tr th:only-of-type {\n",
       "        vertical-align: middle;\n",
       "    }\n",
       "\n",
       "    .dataframe tbody tr th {\n",
       "        vertical-align: top;\n",
       "    }\n",
       "\n",
       "    .dataframe thead th {\n",
       "        text-align: right;\n",
       "    }\n",
       "</style>\n",
       "<table border=\"1\" class=\"dataframe\">\n",
       "  <thead>\n",
       "    <tr style=\"text-align: right;\">\n",
       "      <th></th>\n",
       "      <th>index</th>\n",
       "      <th>col</th>\n",
       "      <th>imp</th>\n",
       "      <th>cum_imp</th>\n",
       "    </tr>\n",
       "  </thead>\n",
       "  <tbody>\n",
       "    <tr>\n",
       "      <th>0</th>\n",
       "      <td>1</td>\n",
       "      <td>day_of_year</td>\n",
       "      <td>0.165600</td>\n",
       "      <td>0.165600</td>\n",
       "    </tr>\n",
       "    <tr>\n",
       "      <th>1</th>\n",
       "      <td>0</td>\n",
       "      <td>day_of_month</td>\n",
       "      <td>0.157436</td>\n",
       "      <td>0.323037</td>\n",
       "    </tr>\n",
       "    <tr>\n",
       "      <th>2</th>\n",
       "      <td>12</td>\n",
       "      <td>day_of_week</td>\n",
       "      <td>0.096186</td>\n",
       "      <td>0.419223</td>\n",
       "    </tr>\n",
       "    <tr>\n",
       "      <th>3</th>\n",
       "      <td>30</td>\n",
       "      <td>is_diwali_period1</td>\n",
       "      <td>0.052105</td>\n",
       "      <td>0.471328</td>\n",
       "    </tr>\n",
       "    <tr>\n",
       "      <th>4</th>\n",
       "      <td>40</td>\n",
       "      <td>hour_night</td>\n",
       "      <td>0.047945</td>\n",
       "      <td>0.519273</td>\n",
       "    </tr>\n",
       "    <tr>\n",
       "      <th>5</th>\n",
       "      <td>14</td>\n",
       "      <td>year</td>\n",
       "      <td>0.047724</td>\n",
       "      <td>0.566997</td>\n",
       "    </tr>\n",
       "    <tr>\n",
       "      <th>6</th>\n",
       "      <td>7</td>\n",
       "      <td>week</td>\n",
       "      <td>0.040135</td>\n",
       "      <td>0.607132</td>\n",
       "    </tr>\n",
       "    <tr>\n",
       "      <th>7</th>\n",
       "      <td>8</td>\n",
       "      <td>week_of_year</td>\n",
       "      <td>0.039988</td>\n",
       "      <td>0.647121</td>\n",
       "    </tr>\n",
       "    <tr>\n",
       "      <th>8</th>\n",
       "      <td>44</td>\n",
       "      <td>hour_early_morning</td>\n",
       "      <td>0.030084</td>\n",
       "      <td>0.677204</td>\n",
       "    </tr>\n",
       "    <tr>\n",
       "      <th>9</th>\n",
       "      <td>48</td>\n",
       "      <td>hour_afternoon</td>\n",
       "      <td>0.026081</td>\n",
       "      <td>0.703286</td>\n",
       "    </tr>\n",
       "    <tr>\n",
       "      <th>10</th>\n",
       "      <td>39</td>\n",
       "      <td>hour_lunch</td>\n",
       "      <td>0.024725</td>\n",
       "      <td>0.728011</td>\n",
       "    </tr>\n",
       "    <tr>\n",
       "      <th>11</th>\n",
       "      <td>41</td>\n",
       "      <td>hour_dinner</td>\n",
       "      <td>0.022956</td>\n",
       "      <td>0.750967</td>\n",
       "    </tr>\n",
       "    <tr>\n",
       "      <th>12</th>\n",
       "      <td>49</td>\n",
       "      <td>hour_early_evening</td>\n",
       "      <td>0.019658</td>\n",
       "      <td>0.770625</td>\n",
       "    </tr>\n",
       "    <tr>\n",
       "      <th>13</th>\n",
       "      <td>50</td>\n",
       "      <td>hour_late_evening1</td>\n",
       "      <td>0.019631</td>\n",
       "      <td>0.790255</td>\n",
       "    </tr>\n",
       "    <tr>\n",
       "      <th>14</th>\n",
       "      <td>34</td>\n",
       "      <td>hour_morning_commute2</td>\n",
       "      <td>0.017554</td>\n",
       "      <td>0.807809</td>\n",
       "    </tr>\n",
       "  </tbody>\n",
       "</table>\n",
       "</div>"
      ],
      "text/plain": [
       "    index                    col       imp   cum_imp\n",
       "0       1            day_of_year  0.165600  0.165600\n",
       "1       0           day_of_month  0.157436  0.323037\n",
       "2      12            day_of_week  0.096186  0.419223\n",
       "3      30      is_diwali_period1  0.052105  0.471328\n",
       "4      40             hour_night  0.047945  0.519273\n",
       "5      14                   year  0.047724  0.566997\n",
       "6       7                   week  0.040135  0.607132\n",
       "7       8           week_of_year  0.039988  0.647121\n",
       "8      44     hour_early_morning  0.030084  0.677204\n",
       "9      48         hour_afternoon  0.026081  0.703286\n",
       "10     39             hour_lunch  0.024725  0.728011\n",
       "11     41            hour_dinner  0.022956  0.750967\n",
       "12     49     hour_early_evening  0.019658  0.770625\n",
       "13     50     hour_late_evening1  0.019631  0.790255\n",
       "14     34  hour_morning_commute2  0.017554  0.807809"
      ]
     },
     "execution_count": 209,
     "metadata": {},
     "output_type": "execute_result"
    },
    {
     "data": {
      "text/plain": [
       "<Figure size 504x504 with 0 Axes>"
      ]
     },
     "execution_count": 209,
     "metadata": {},
     "output_type": "execute_result"
    },
    {
     "data": {
      "text/plain": [
       "<BarContainer object of 15 artists>"
      ]
     },
     "execution_count": 209,
     "metadata": {},
     "output_type": "execute_result"
    },
    {
     "data": {
      "text/plain": [
       "Text(0.5, 0, 'Importance')"
      ]
     },
     "execution_count": 209,
     "metadata": {},
     "output_type": "execute_result"
    },
    {
     "data": {
      "image/png": "[encoded data removed]",
      "text/plain": [
       "<Figure size 504x504 with 1 Axes>"
      ]
     },
     "metadata": {
      "needs_background": "light"
     },
     "output_type": "display_data"
    }
   ],
   "source": [
    "dfimp = pd.DataFrame({'col':xt.columns, 'imp': m.feature_importances_}).sort_values('imp', ascending=False).reset_index()\n",
    "dfimp['cum_imp'] = dfimp['imp'].cumsum()\n",
    "\n",
    "# TAKE A LOOK AT 15 MOST IMPORTANT COLUMNS\n",
    "\n",
    "dfimp[:15]\n",
    "\n",
    "plt.figure(figsize=(7,7))\n",
    "plt.barh(dfimp[:15]['col'], dfimp[:15]['imp'])\n",
    "plt.xlabel('Importance')\n",
    "plt.show()"
   ]
  },
  {
   "cell_type": "markdown",
   "metadata": {},
   "source": [
    "#### TOP 3 MOST PREDICTIVE FEATURES ARE DAY_OF_MONTH, DAY_OF_YEAR AND DAY_OF_WEEK"
   ]
  },
  {
   "cell_type": "markdown",
   "metadata": {},
   "source": [
    "#### MODEL TUNING"
   ]
  },
  {
   "cell_type": "code",
   "execution_count": 146,
   "metadata": {},
   "outputs": [
    {
     "data": {
      "text/plain": [
       "36.36741067896643"
      ]
     },
     "execution_count": 146,
     "metadata": {},
     "output_type": "execute_result"
    }
   ],
   "source": [
    "# AFTER FURTHER HYPER-PARAM TUNING, FOLLOWING COMBINATION GIVES THE BEST RESULTS\n",
    "\n",
    "m = RandomForestRegressor(n_estimators= 150, max_features = 0.5, min_samples_leaf = 5, n_jobs=-1, max_samples=0.6)\n",
    "m.fit(xt, yt)\n",
    "\n",
    "val_preds = m.predict(xv)\n",
    "\n",
    "np.sqrt(mean_squared_error(yv, val_preds))"
   ]
  },
  {
   "cell_type": "markdown",
   "metadata": {},
   "source": [
    "### TEST DATA"
   ]
  },
  {
   "cell_type": "code",
   "execution_count": 147,
   "metadata": {},
   "outputs": [
    {
     "name": "stdout",
     "output_type": "stream",
     "text": [
      "Final df shape (7650, 58)\n"
     ]
    }
   ],
   "source": [
    "test = pd.read_csv('test_6QvDdzb.csv')\n",
    "test['date'] = pd.to_datetime(test['date'])\n",
    "date_col = 'date'\n",
    "test = date_process(test)"
   ]
  },
  {
   "cell_type": "code",
   "execution_count": 148,
   "metadata": {},
   "outputs": [
    {
     "data": {
      "text/plain": [
       "0"
      ]
     },
     "execution_count": 148,
     "metadata": {},
     "output_type": "execute_result"
    }
   ],
   "source": [
    "test.isna().sum().sum()\n",
    "\n",
    "# NO NULL VALUES IN TEST DATA"
   ]
  },
  {
   "cell_type": "code",
   "execution_count": 149,
   "metadata": {},
   "outputs": [
    {
     "name": "stdout",
     "output_type": "stream",
     "text": [
      "train_df shape (7650, 56)\n"
     ]
    }
   ],
   "source": [
    "test_df = test.drop(['date', 'hour'], axis=1)\n",
    "print('train_df shape', test_df.shape)"
   ]
  },
  {
   "cell_type": "code",
   "execution_count": 150,
   "metadata": {},
   "outputs": [
    {
     "data": {
      "text/html": [
       "<div>\n",
       "<style scoped>\n",
       "    .dataframe tbody tr th:only-of-type {\n",
       "        vertical-align: middle;\n",
       "    }\n",
       "\n",
       "    .dataframe tbody tr th {\n",
       "        vertical-align: top;\n",
       "    }\n",
       "\n",
       "    .dataframe thead th {\n",
       "        text-align: right;\n",
       "    }\n",
       "</style>\n",
       "<table border=\"1\" class=\"dataframe\">\n",
       "  <thead>\n",
       "    <tr style=\"text-align: right;\">\n",
       "      <th></th>\n",
       "      <th>day_of_month</th>\n",
       "      <th>day_of_year</th>\n",
       "      <th>is_month_start</th>\n",
       "      <th>is_month_end</th>\n",
       "      <th>is_quarter_start</th>\n",
       "      <th>is_quarter_end</th>\n",
       "      <th>month</th>\n",
       "      <th>week</th>\n",
       "      <th>week_of_year</th>\n",
       "      <th>is_year_start</th>\n",
       "      <th>...</th>\n",
       "      <th>hour_forenoon</th>\n",
       "      <th>hour_noon</th>\n",
       "      <th>hour_afternoon</th>\n",
       "      <th>hour_early_evening</th>\n",
       "      <th>hour_late_evening1</th>\n",
       "      <th>hour_late_evening2</th>\n",
       "      <th>hour_pre_midnight</th>\n",
       "      <th>hour_post_midnight</th>\n",
       "      <th>hour_pre_dawn1</th>\n",
       "      <th>hour_pre_dawn2</th>\n",
       "    </tr>\n",
       "  </thead>\n",
       "  <tbody>\n",
       "    <tr>\n",
       "      <th>0</th>\n",
       "      <td>1</td>\n",
       "      <td>60</td>\n",
       "      <td>True</td>\n",
       "      <td>False</td>\n",
       "      <td>False</td>\n",
       "      <td>False</td>\n",
       "      <td>3</td>\n",
       "      <td>9</td>\n",
       "      <td>9</td>\n",
       "      <td>False</td>\n",
       "      <td>...</td>\n",
       "      <td>0</td>\n",
       "      <td>0</td>\n",
       "      <td>0</td>\n",
       "      <td>0</td>\n",
       "      <td>0</td>\n",
       "      <td>0</td>\n",
       "      <td>0</td>\n",
       "      <td>1</td>\n",
       "      <td>0</td>\n",
       "      <td>0</td>\n",
       "    </tr>\n",
       "    <tr>\n",
       "      <th>1</th>\n",
       "      <td>1</td>\n",
       "      <td>60</td>\n",
       "      <td>True</td>\n",
       "      <td>False</td>\n",
       "      <td>False</td>\n",
       "      <td>False</td>\n",
       "      <td>3</td>\n",
       "      <td>9</td>\n",
       "      <td>9</td>\n",
       "      <td>False</td>\n",
       "      <td>...</td>\n",
       "      <td>0</td>\n",
       "      <td>0</td>\n",
       "      <td>0</td>\n",
       "      <td>0</td>\n",
       "      <td>0</td>\n",
       "      <td>0</td>\n",
       "      <td>0</td>\n",
       "      <td>1</td>\n",
       "      <td>0</td>\n",
       "      <td>0</td>\n",
       "    </tr>\n",
       "  </tbody>\n",
       "</table>\n",
       "<p>2 rows × 56 columns</p>\n",
       "</div>"
      ],
      "text/plain": [
       "   day_of_month  day_of_year  is_month_start  is_month_end  is_quarter_start  \\\n",
       "0             1           60            True         False             False   \n",
       "1             1           60            True         False             False   \n",
       "\n",
       "   is_quarter_end  month  week  week_of_year  is_year_start  ...  \\\n",
       "0           False      3     9             9          False  ...   \n",
       "1           False      3     9             9          False  ...   \n",
       "\n",
       "   hour_forenoon  hour_noon  hour_afternoon  hour_early_evening  \\\n",
       "0              0          0               0                   0   \n",
       "1              0          0               0                   0   \n",
       "\n",
       "   hour_late_evening1  hour_late_evening2  hour_pre_midnight  \\\n",
       "0                   0                   0                  0   \n",
       "1                   0                   0                  0   \n",
       "\n",
       "   hour_post_midnight  hour_pre_dawn1  hour_pre_dawn2  \n",
       "0                   1               0               0  \n",
       "1                   1               0               0  \n",
       "\n",
       "[2 rows x 56 columns]"
      ]
     },
     "execution_count": 150,
     "metadata": {},
     "output_type": "execute_result"
    }
   ],
   "source": [
    "test_df.head(2)"
   ]
  },
  {
   "cell_type": "code",
   "execution_count": 151,
   "metadata": {},
   "outputs": [],
   "source": [
    "test_preds = m.predict(test_df)"
   ]
  },
  {
   "cell_type": "markdown",
   "metadata": {},
   "source": [
    "### SUBMISSION"
   ]
  },
  {
   "cell_type": "code",
   "execution_count": 211,
   "metadata": {},
   "outputs": [
    {
     "data": {
      "text/html": [
       "<div>\n",
       "<style scoped>\n",
       "    .dataframe tbody tr th:only-of-type {\n",
       "        vertical-align: middle;\n",
       "    }\n",
       "\n",
       "    .dataframe tbody tr th {\n",
       "        vertical-align: top;\n",
       "    }\n",
       "\n",
       "    .dataframe thead th {\n",
       "        text-align: right;\n",
       "    }\n",
       "</style>\n",
       "<table border=\"1\" class=\"dataframe\">\n",
       "  <thead>\n",
       "    <tr style=\"text-align: right;\">\n",
       "      <th></th>\n",
       "      <th>date</th>\n",
       "      <th>hour</th>\n",
       "      <th>demand</th>\n",
       "    </tr>\n",
       "  </thead>\n",
       "  <tbody>\n",
       "    <tr>\n",
       "      <th>0</th>\n",
       "      <td>2021-03-01</td>\n",
       "      <td>0</td>\n",
       "      <td>49.447832</td>\n",
       "    </tr>\n",
       "    <tr>\n",
       "      <th>1</th>\n",
       "      <td>2021-03-01</td>\n",
       "      <td>1</td>\n",
       "      <td>49.447832</td>\n",
       "    </tr>\n",
       "  </tbody>\n",
       "</table>\n",
       "</div>"
      ],
      "text/plain": [
       "        date  hour     demand\n",
       "0 2021-03-01     0  49.447832\n",
       "1 2021-03-01     1  49.447832"
      ]
     },
     "execution_count": 211,
     "metadata": {},
     "output_type": "execute_result"
    }
   ],
   "source": [
    "sub = test[['date', 'hour']].copy()\n",
    "sub['demand'] = test_preds\n",
    "sub.head(2)"
   ]
  },
  {
   "cell_type": "code",
   "execution_count": 153,
   "metadata": {},
   "outputs": [],
   "source": [
    "f = str(datetime.now())[:19].replace(':', '-')\n",
    "f = '_'.join(f.split())\n",
    "\n",
    "file_name = 'sub_' + f + '.csv'\n",
    "sub.to_csv(file_name, index=False)"
   ]
  },
  {
   "cell_type": "markdown",
   "metadata": {},
   "source": [
    "#### THANK YOU"
   ]
  }
 ],
 "metadata": {
  "kernelspec": {
   "display_name": "Python 3",
   "language": "python",
   "name": "python3"
  },
  "language_info": {
   "codemirror_mode": {
    "name": "ipython",
    "version": 3
   },
   "file_extension": ".py",
   "mimetype": "text/x-python",
   "name": "python",
   "nbconvert_exporter": "python",
   "pygments_lexer": "ipython3",
   "version": "3.7.6"
  }
 },
 "nbformat": 4,
 "nbformat_minor": 4
}
